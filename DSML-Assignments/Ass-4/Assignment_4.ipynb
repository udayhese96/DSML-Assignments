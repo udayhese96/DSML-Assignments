{
  "nbformat": 4,
  "nbformat_minor": 0,
  "metadata": {
    "colab": {
      "provenance": []
    },
    "kernelspec": {
      "name": "python3",
      "display_name": "Python 3"
    },
    "language_info": {
      "name": "python"
    }
  },
  "cells": [
    {
      "cell_type": "code",
      "execution_count": null,
      "metadata": {
        "id": "qKTacXRgBMKP"
      },
      "outputs": [],
      "source": [
        "# 4. Write a program to do following:\n",
        "# We have given a collection of 8 points. P1=[0.1,0.6] P2=[0.15,0.71] P3=[0.08,0.9] P4=[0.16,\n",
        "# 0.85] P5=[0.2,0.3] P6=[0.25,0.5] P7=[0.24,0.1] P8=[0.3,0.2]. Perform the k-mean clustering\n",
        "# with initial centroids as m1=P1=Cluster#1=C1 and m2=P8=cluster#2=C2.\n",
        "# Answer the following:\n",
        "# a) Which cluster does P6 belongs to?\n",
        "# b) What is the population of cluster around m2?\n",
        "# c) What is updated value of m1 and m2?"
      ]
    },
    {
      "cell_type": "code",
      "source": [
        "import numpy as np"
      ],
      "metadata": {
        "id": "2GR9ji-fDFXX"
      },
      "execution_count": 1,
      "outputs": []
    },
    {
      "cell_type": "code",
      "source": [
        "# Define the given points\n",
        "points = np.array([[0.1, 0.6], [0.15, 0.71], [0.08, 0.9], [0.16, 0.85],\n",
        "                   [0.2, 0.3], [0.25, 0.5], [0.24, 0.1], [0.3, 0.2]])\n",
        "\n",
        "# Define the initial centroids\n",
        "m1 = points[0]  # P1\n",
        "m2 = points[7]  # P8"
      ],
      "metadata": {
        "id": "BNvoY4WbDUc5"
      },
      "execution_count": 2,
      "outputs": []
    },
    {
      "cell_type": "code",
      "source": [
        "# Perform k-means clustering\n",
        "def k_means(points, m1, m2):\n",
        "    clusters = [[] for _ in range(2)]\n",
        "    for point in points:\n",
        "        dist_to_m1 = np.linalg.norm(point - m1)\n",
        "        dist_to_m2 = np.linalg.norm(point - m2)\n",
        "        if dist_to_m1 < dist_to_m2:\n",
        "            clusters[0].append(point)\n",
        "        else:\n",
        "            clusters[1].append(point)\n",
        "\n",
        "    # Calculate new centroids\n",
        "    new_m1 = np.mean(clusters[0], axis=0)\n",
        "    new_m2 = np.mean(clusters[1], axis=0)\n",
        "\n",
        "    return clusters, new_m1, new_m2\n"
      ],
      "metadata": {
        "id": "Zid-so5ADZvc"
      },
      "execution_count": 3,
      "outputs": []
    },
    {
      "cell_type": "code",
      "source": [
        "# Run one iteration of k-means clustering\n",
        "clusters, new_m1, new_m2 = k_means(points, m1, m2)"
      ],
      "metadata": {
        "id": "sywGSIxYDc9p"
      },
      "execution_count": 4,
      "outputs": []
    },
    {
      "cell_type": "code",
      "source": [
        "# a) Which cluster does P6 belong to?\n",
        "p6 = points[5]  # P6\n",
        "if any((p6 == point).all() for point in clusters[0]):\n",
        "    cluster_p6 = \"Cluster #1 (C1)\"\n",
        "else:\n",
        "    cluster_p6 = \"Cluster #2 (C2)\"\n"
      ],
      "metadata": {
        "id": "9nTyBF8lDftU"
      },
      "execution_count": 5,
      "outputs": []
    },
    {
      "cell_type": "code",
      "source": [
        "# b) What is the population of cluster around m2?\n",
        "population_m2 = len(clusters[1])"
      ],
      "metadata": {
        "id": "XdvlPZRRDiCT"
      },
      "execution_count": 6,
      "outputs": []
    },
    {
      "cell_type": "code",
      "source": [
        "# c) What are the updated values of m1 and m2?\n",
        "updated_m1 = new_m1\n",
        "updated_m2 = new_m2"
      ],
      "metadata": {
        "id": "f9mhSS7GDkqY"
      },
      "execution_count": 7,
      "outputs": []
    },
    {
      "cell_type": "code",
      "source": [
        "# Output the answers\n",
        "print(\"a) P6 belongs to\", cluster_p6)\n",
        "print(\"b) Population of cluster around m2 (C2):\", population_m2)\n",
        "print(\"c) Updated value of m1:\", updated_m1)\n",
        "print(\"   Updated value of m2:\", updated_m2)"
      ],
      "metadata": {
        "id": "W23s4EhvDneI",
        "outputId": "a867d89b-a18b-41f7-cfe0-dd770d287cbd",
        "colab": {
          "base_uri": "https://localhost:8080/"
        }
      },
      "execution_count": 8,
      "outputs": [
        {
          "output_type": "stream",
          "name": "stdout",
          "text": [
            "a) P6 belongs to Cluster #1 (C1)\n",
            "b) Population of cluster around m2 (C2): 3\n",
            "c) Updated value of m1: [0.148 0.712]\n",
            "   Updated value of m2: [0.24666667 0.2       ]\n"
          ]
        }
      ]
    }
  ]
}